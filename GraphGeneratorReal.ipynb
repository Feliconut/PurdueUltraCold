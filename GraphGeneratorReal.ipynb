{
 "cells": [
  {
   "cell_type": "code",
   "execution_count": null,
   "metadata": {},
   "outputs": [],
   "source": [
    "import numpy as np\n",
    "from scipy import stats\n",
    "import matplotlib.pyplot as plt\n",
    "from matplotlib.transforms import Bbox\n",
    "import plotly.graph_objects as go\n",
    "import pickle as pkl\n",
    "import keras\n",
    "import os\n",
    "from GraphFuncs import*"
   ]
  },
  {
   "cell_type": "code",
   "execution_count": null,
   "metadata": {},
   "outputs": [],
   "source": [
    "modelname = 'realdata_BnCNN_1.0e-03_100_256'\n",
    "model = keras.models.load_model('./results/BnCNN_1.0e-03_100_256.h5')\n",
    "try:\n",
    "    os.mkdir(\"./results/Plots/%s\" % modelname)\n",
    "except OSError:\n",
    "    print(\"Folder %s already exists\" % modelname)\n",
    "keras.utils.plot_model(model, './results/Plots/CNN model.png', show_shapes=True)"
   ]
  },
  {
   "cell_type": "code",
   "execution_count": null,
   "metadata": {},
   "outputs": [],
   "source": [
    "savedir = \"./results/\"\n",
    "yscaler = pkl.load(open(savedir + \"yscaler\", \"rb\"))\n",
    "testin = pkl.load(open(savedir + \"realdatain\", \"rb\"))\n",
    "testout = pkl.load(open(savedir + \"realdataout\", \"rb\"))"
   ]
  },
  {
   "cell_type": "code",
   "execution_count": null,
   "metadata": {},
   "outputs": [],
   "source": [
    "true = testout.numpy()\n",
    "true = yscaler.inverse_transform(true)\n",
    "pred = model.predict(testin)\n",
    "pred = yscaler.inverse_transform(pred)"
   ]
  },
  {
   "cell_type": "code",
   "execution_count": null,
   "metadata": {},
   "outputs": [],
   "source": [
    "print(np.shape(true))"
   ]
  },
  {
   "cell_type": "code",
   "execution_count": null,
   "metadata": {},
   "outputs": [],
   "source": [
    "varname = [\"Astigmatism\", \"Defocus\", \"Detuning\"]\n",
    "bins = 30\n",
    "\n",
    "for i in range(len(varname)):\n",
    "    lower, upper = getlowerupper(pred[:,i], true[:,i])\n",
    "    histo(modelname, true[:,i], pred[:,i], varname[i], lower, upper, bins)\n",
    "    sems, resmeans, lowerranges, upperranges, lowerbounds, upperbounds, samples = \\\n",
    "    plotgaussian(modelname, true[:,i], pred[:,i], varname[i], lower, upper, bins)\n",
    "    rmsplot(modelname, true[:,i], pred[:,i], varname[i], lower, upper, bins)\n",
    "    heatmap(modelname, true[:,i], pred[:,i], varname[i], lower, upper, bins)\n",
    "    confinttable(modelname, varname[i], sems, resmeans, lowerranges, upperranges, lowerbounds, upperbounds, samples)\n",
    "print(model.summary())"
   ]
  },
  {
   "cell_type": "code",
   "execution_count": null,
   "metadata": {},
   "outputs": [],
   "source": []
  }
 ],
 "metadata": {
  "kernelspec": {
   "display_name": "Python 3",
   "language": "python",
   "name": "python3"
  },
  "language_info": {
   "codemirror_mode": {
    "name": "ipython",
    "version": 3
   },
   "file_extension": ".py",
   "mimetype": "text/x-python",
   "name": "python",
   "nbconvert_exporter": "python",
   "pygments_lexer": "ipython3",
   "version": "3.7.4"
  }
 },
 "nbformat": 4,
 "nbformat_minor": 2
}
