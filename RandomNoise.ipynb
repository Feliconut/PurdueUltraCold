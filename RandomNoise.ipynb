{
 "cells": [
  {
   "cell_type": "code",
   "execution_count": null,
   "metadata": {},
   "outputs": [],
   "source": [
    "from util import get_freq\n",
    "import matplotlib.pyplot as plt\n",
    "import numpy as np\n",
    "from random import uniform\n",
    "from NPSmethods import readInImages\n",
    "from NPSmethods import pupilFunc\n",
    "from numpy.fft import ifftshift, irfft2\n",
    "import pickle as pkl\n",
    "import matplotlib.cm as cm\n",
    "from komm import AWGNChannel"
   ]
  },
  {
   "cell_type": "code",
   "execution_count": null,
   "metadata": {},
   "outputs": [],
   "source": [
    "#Geranate random assortment of parameters\n",
    "def make_Paras(seedParas, numToGen):\n",
    "    outPara = np.empty(shape =(numToGen, len(seedParas)))\n",
    "    paraTemp = [None] * len(seedParas)\n",
    "    for i in range(numToGen):\n",
    "        if i == 0:\n",
    "            paraTemp = seedParas.copy()\n",
    "        else:\n",
    "            for j in range(len(seedParas)):\n",
    "                para = seedParas[j]\n",
    "                if j ==3 or j == 5 or j == 6:\n",
    "                    para = para * uniform(.5, 2)\n",
    "                paraTemp[j] = para\n",
    "        outPara[i] = paraTemp\n",
    "    return outPara\n",
    "        \n",
    "\n",
    "#Generate M2k_Fit\n",
    "def make_M2k_Fit(paras, imgSysData):\n",
    "    \n",
    "    A, tau, S0, alpha, phi, beta, delta_s = paras\n",
    "    _, _, K_X, K_Y = get_freq(imgSysData[\"CCDPixelSize\"],\n",
    "                                      imgSysData[\"magnification\"], (100,100))\n",
    "    d = imgSysData[\"wavelen\"] / (2*np.pi*imgSysData[\"NA\"])\n",
    "    R_p, Theta_p = np.abs(K_X + 1j*K_Y) * d, np.angle(K_X + 1j*K_Y)\n",
    "    p1 = pupilFunc(R_p, Theta_p + np.pi, tau, S0, alpha, phi, beta)\n",
    "    p2 = np.conj(pupilFunc(R_p, Theta_p, tau, S0, alpha, phi, beta)) * \\\n",
    "            np.exp(-2*1j*delta_s)\n",
    "    PSF = (p1 + p2) / (2 * np.cos(delta_s))\n",
    "    M2k = np.abs(PSF)**2\n",
    "    M2k_Fit = A * M2k\n",
    "    M2k_Fit[M2k_Fit.shape[0]//2, M2k_Fit.shape[1]//2] = 0\n",
    "    \n",
    "    return M2k_Fit\n",
    "\n",
    "#Generate NPS noise\n",
    "def generate_Noise(M2k_Fit, idealOD, numIms):\n",
    "#     M2k_Fit *= idealOD.sum()\n",
    "    M2k_Fit = M2k_Fit.flatten()\n",
    "    NPSs = np.empty(shape = (numIms, len(M2k_Fit)))\n",
    "    noise_mult = range(1, 1+numIms, 1)\n",
    "    signal_region = np.where(M2k_Fit != 0)\n",
    "    noise_region = np.where(M2k_Fit == 0)\n",
    "    NSR = np.random.normal(loc = 0.1, scale = 0.2, size = len(signal_region[0]))\n",
    "    bkg_noise = np.random.normal(loc = 0.00695, scale = 0.00157, size = len(noise_region[0]))\n",
    "    \n",
    "\n",
    "    for i in range(numIms):\n",
    "        for j in range(len(signal_region[0])):\n",
    "            NPSs[i][signal_region[0][j]] = M2k_Fit[signal_region[0][j]] + M2k_Fit[signal_region[0][j]] * NSR[j] / noise_mult[i]\n",
    "        for k in range(len(noise_region[0])):\n",
    "            NPSs[i][noise_region[0][k]] = bkg_noise[k]\n",
    "\n",
    "    NPSs = np.reshape(NPSs, (numIms, 100, 100))\n",
    "    \n",
    "    return NPSs\n",
    "\n",
    "#Turn one NPS to one OD\n",
    "def NPS_to_ODs(NPSs):\n",
    "    fakeODs = np.empty_like(NPSs[0])\n",
    "    \n",
    "    for NPS in NPSs:\n",
    "        NPS = np.sqrt(np.abs(NPS))\n",
    "        noise = ifftshift(irfft2(ifftshift(NPS), s = np.shape(NPSs[0])))\n",
    "        fakeODs = np.dstack((fakeODs, np.exp(-(noise + idealOD))))\n",
    "\n",
    "    fakeODs = fakeODs.T\n",
    "    fakeODs = np.delete(fakeODs, 0, 0)\n",
    "    \n",
    "    return fakeODs"
   ]
  },
  {
   "cell_type": "code",
   "execution_count": null,
   "metadata": {},
   "outputs": [],
   "source": [
    "folderpath = './raw_image/141902/'\n",
    "savepath = './results/141902_101-123/'\n",
    "seedParas = [0.35060326843236184, 0.6484441665068852, -2.63564159087613, 0.5094606166480791, -1.8773441762223027, 0.8206242586655179, 1.0257364487180909]\n",
    "\n",
    "numNPSs = 3\n",
    "numODs = 50\n",
    "numParas = 1\n",
    "\n",
    "NPSs = np.empty(shape = (numNPSs * numParas, 100, 100))\n",
    "fakeODs = np.empty(shape = (numNPSs, 100, 100))\n",
    "savedParas = np.empty(shape = (numNPSs, 7))\n",
    "\n",
    "_, idealOD, _, _, _, _ = readInImages(folderpath, 23, 0, trapRegion = (slice(100, 200), slice(100, 200)), noiseRegion = (slice(0, 300), slice(0, 300)))\n",
    "\n",
    "imgSysData = { \n",
    "    \"CCDPixelSize\": 13,      # pixel size of the CCD, in micron \n",
    "    \"magnification\": 27,      # 799.943 / 29.9099, # magnification of the imaging system \n",
    "    \"wavelen\"     : 0.852,     # wavelength of the imaging beam, in micron \n",
    "    \"NA\"          : 0.37,      # numerical aperture of the objective \n",
    "    \"ODtoAtom\"    : 13\n",
    "} \n",
    "\n",
    "i = 0\n",
    "for paras in make_Paras(seedParas, numParas):\n",
    "    print(i+1)\n",
    "    NPSs[i * numNPSs:(i + 1) * numNPSs] = generate_Noise(make_M2k_Fit(paras, imgSysData), idealOD, numNPSs)\n",
    "    tempParas = np.ones(shape = (numNPSs, len(paras))) * paras\n",
    "    savedParas = np.vstack((savedParas, tempParas))\n",
    "    i += 1\n",
    "# NPSs = NPSs[numNPSs:]\n",
    "savedParas = savedParas[numNPSs:]\n",
    "fakeODs = np.vstack((fakeODs, NPS_to_ODs(NPSs)))\n",
    "fakeODs = fakeODs[numNPSs:]"
   ]
  },
  {
   "cell_type": "code",
   "execution_count": null,
   "metadata": {},
   "outputs": [],
   "source": [
    "print(np.shape(NPSs))\n",
    "print(np.shape(fakeODs))\n",
    "print(np.shape(savedParas))"
   ]
  },
  {
   "cell_type": "code",
   "execution_count": null,
   "metadata": {},
   "outputs": [],
   "source": [
    "print(seedParas)\n",
    "print(savedParas[0])\n",
    "print(savedParas[2])\n",
    "print(savedParas[0])"
   ]
  },
  {
   "cell_type": "code",
   "execution_count": null,
   "metadata": {
    "scrolled": true
   },
   "outputs": [],
   "source": [
    "K_x, K_y, _, _ = get_freq(imgSysData[\"CCDPixelSize\"], imgSysData[\"magnification\"], (100,100))\n",
    "fig = plt.figure(figsize=(5.5, 4.5))\n",
    "ax = fig.add_subplot(111)\n",
    "print(np.shape(NPSs[0]))\n",
    "im = ax.pcolor(K_x, K_y, NPSs[1], cmap=cm.jet, vmin = 0, vmax = .285)\n",
    "plt.colorbar(im)"
   ]
  },
  {
   "cell_type": "code",
   "execution_count": null,
   "metadata": {},
   "outputs": [],
   "source": [
    "plt.imshow(fakeODs[0])"
   ]
  },
  {
   "cell_type": "code",
   "execution_count": null,
   "metadata": {},
   "outputs": [],
   "source": [
    "pkl.dump(NPSs, open(savepath + \"fakeNPSs\", \"wb\"))\n",
    "pkl.dump(fakeODs, open(savepath + \"fakeODs\", \"wb\"))\n",
    "pkl.dump(savedParas, open(savepath + \"savedParas\", \"wb\"))"
   ]
  },
  {
   "cell_type": "code",
   "execution_count": null,
   "metadata": {},
   "outputs": [],
   "source": []
  }
 ],
 "metadata": {
  "kernelspec": {
   "display_name": "Python 3",
   "language": "python",
   "name": "python3"
  },
  "language_info": {
   "codemirror_mode": {
    "name": "ipython",
    "version": 3
   },
   "file_extension": ".py",
   "mimetype": "text/x-python",
   "name": "python",
   "nbconvert_exporter": "python",
   "pygments_lexer": "ipython3",
   "version": "3.7.4"
  }
 },
 "nbformat": 4,
 "nbformat_minor": 2
}
