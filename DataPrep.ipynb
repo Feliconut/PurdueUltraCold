{
 "cells": [
  {
   "cell_type": "code",
   "execution_count": null,
   "metadata": {},
   "outputs": [],
   "source": [
    "from sklearn.preprocessing import StandardScaler\n",
    "from sklearn.model_selection import train_test_split\n",
    "import pickle as pkl\n",
    "import glob\n",
    "import numpy as np\n",
    "import cv2\n",
    "from img_load import load_bimg\n",
    "from NPSmethods import *"
   ]
  },
  {
   "cell_type": "code",
   "execution_count": null,
   "metadata": {},
   "outputs": [],
   "source": [
    "psat=277\n",
    "\n",
    "#Settings of imaging system\n",
    "imgSysData = { \n",
    "    \"CCDPixelSize\": 13,      # pixel size of the CCD, in micron \n",
    "    \"magnification\": 27,      # 799.943 / 29.9099, # magnification of the imaging system \n",
    "    \"wavelen\"     : 0.852,     # wavelength of the imaging beam, in micron \n",
    "    \"NA\"          : 0.37,      # numerical aperture of the objective \n",
    "    \"ODtoAtom\"    : 13\n",
    "}\n",
    "\n",
    "#Configurations for NPSMethods (here we only need do_Fit)\n",
    "choices = {\n",
    "    \"if_Save\"                     : False,\n",
    "    \"do_Fit\"                      : True,\n",
    "    \"plot_2dGas\"                  : False,\n",
    "    \"plot_NoisePowSpec\"           : False,\n",
    "    \"plot_NoisePowSpec_LineCut\"   : False,\n",
    "    \"plot_Pupil\"                  : False,\n",
    "    \"plot_PSF\"                    : False,\n",
    "    \"plot_PSF_LineCut\"            : False,\n",
    "    \"plot_PSF_abs2\"               : False,\n",
    "    \"plot_PSF_abs2_LineCut\"       : False,\n",
    "    \"plot_Sk\"                     : False,\n",
    "    \"normalize\"                   : False\n",
    "}\n",
    "\n",
    "#Directory containing image folders\n",
    "path = r'C:\\directory\\raw_image'\n",
    "\n",
    "#Directory where ML data will output to\n",
    "resDir = r\"C:\\directory\\results\"\n",
    "\n",
    "trapRegion = (slice(100, 200), slice(100, 200))\n",
    "    # the region where the atoms located, [(xmin, xmax), (ymin, ymax)] (pixel)\n",
    "\n",
    "noiseRegion = (slice(0, 300), slice(0, 300))\n",
    "    # the region chosen for noise analysis, [(xmin, xmax), (ymin, ymax)] (pixel)\n",
    "\n",
    "numOfImgsInEachRun = 50      # number of images for each run of analysis\n",
    "\n",
    "rampingParameter = 0\n",
    "\n",
    "#Lists where OD images and parameters will be stored\n",
    "rawimages = []\n",
    "parameters = []\n",
    "\n",
    "#Sort through folders in path directory for raw images, extract OD image and parameters, then append to lists\n",
    "for folder in glob.iglob(path + \"\\\\*\"):\n",
    "    result=load_bimg(folder + \"\\\\\", raw=True)\n",
    "    odimg=-np.log(result['raw1']/result['raw2'])-(result['raw1']-result['raw2'])/psat\n",
    "    _, _, _, _, popt, _ = doCalibration(folder, resDir, trapRegion, noiseRegion, numOfImgsInEachRun, rampingParameter, imgSysData, choices)\n",
    "    for i in range(len(odimg)):\n",
    "        rawimages.append(odimg[i])\n",
    "        parameters.append(popt)\n"
   ]
  },
  {
   "cell_type": "code",
   "execution_count": null,
   "metadata": {},
   "outputs": [],
   "source": [
    "#Scale data and split into training and validation sets as arrays\n",
    "scaler = StandardScaler()\n",
    "yscaler = scaler.fit(np.array(parameters))\n",
    "scaledpara = scaler.transform(np.array(parameters))\n",
    "rawimages = np.array(rawimages).reshape((147,-1))\n",
    "trainin, testin, trainout, testout = train_test_split(rawimages, scaledpara, test_size=0.25, shuffle=True)"
   ]
  },
  {
   "cell_type": "code",
   "execution_count": null,
   "metadata": {},
   "outputs": [],
   "source": [
    "#Store ML training data as pickle files\n",
    "pkl.dump(trainin, open(resDir + \"\\\\trainin.pkl\", \"wb\"))\n",
    "pkl.dump(trainout, open(resDir + \"\\\\trainout.pkl\", \"wb\"))\n",
    "pkl.dump(testin, open(resDir + \"\\\\testin.pkl\", \"wb\"))\n",
    "pkl.dump(testout, open(resDir + \"\\\\testout.pkl\", \"wb\"))\n",
    "pkl.dump(yscaler, open(resDir + \"\\\\yscaler.pkl\", \"wb\"))"
   ]
  },
  {
   "cell_type": "code",
   "execution_count": null,
   "metadata": {},
   "outputs": [],
   "source": []
  }
 ],
 "metadata": {
  "kernelspec": {
   "display_name": "Python 3",
   "language": "python",
   "name": "python3"
  },
  "language_info": {
   "codemirror_mode": {
    "name": "ipython",
    "version": 3
   },
   "file_extension": ".py",
   "mimetype": "text/x-python",
   "name": "python",
   "nbconvert_exporter": "python",
   "pygments_lexer": "ipython3",
   "version": "3.7.4"
  }
 },
 "nbformat": 4,
 "nbformat_minor": 2
}
