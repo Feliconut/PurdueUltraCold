{
 "cells": [
  {
   "cell_type": "code",
   "execution_count": null,
   "metadata": {},
   "outputs": [],
   "source": [
    "from NPSmethods import*\n",
    "import numpy as np\n",
    "from sklearn.preprocessing import StandardScaler\n",
    "import glob\n",
    "import pickle as pkl\n",
    "import tensorflow as tf"
   ]
  },
  {
   "cell_type": "code",
   "execution_count": null,
   "metadata": {},
   "outputs": [],
   "source": [
    "def calcNoisePowSpecs(ODs, ODAvg, norm=False, imgSysData=None):\n",
    "\n",
    "    noisePowSpecs = []\n",
    "    for k in range(len(ODs)):\n",
    "        noise = ODs[k]\n",
    "        if norm:\n",
    "            noise = OD2AtomNum(noise, imgSysData)\n",
    "        noiseFFT = np.fft.fftshift(np.fft.fft2(np.fft.fftshift(noise)))\n",
    "        noisePowSpec = np.abs(noiseFFT)**2\n",
    "        noisePowSpec = noisePowSpec / ODs[k].sum()\n",
    "        noisePowSpec[noisePowSpec.shape[0]//2, noisePowSpec.shape[1]//2] = 0\n",
    "        noisePowSpecs.append(noisePowSpec)\n",
    "\n",
    "    return noisePowSpecs"
   ]
  },
  {
   "cell_type": "code",
   "execution_count": null,
   "metadata": {},
   "outputs": [],
   "source": [
    "imgSysData = { \n",
    "    \"CCDPixelSize\": 13,      # pixel size of the CCD, in micron \n",
    "    \"magnification\": 27,      # 799.943 / 29.9099, # magnification of the imaging system \n",
    "    \"wavelen\"     : 0.852,     # wavelength of the imaging beam, in micron \n",
    "    \"NA\"          : 0.37,      # numerical aperture of the objective \n",
    "    \"ODtoAtom\"    : 13\n",
    "}\n",
    "\n",
    "choices = {\n",
    "    \"if_Save\"                     : False,\n",
    "    \"do_Fit\"                      : True,\n",
    "    \"plot_2dGas\"                  : False,\n",
    "    \"plot_NoisePowSpec\"           : False,\n",
    "    \"plot_NoisePowSpec_LineCut\"   : False,\n",
    "    \"plot_Pupil\"                  : False,\n",
    "    \"plot_PSF\"                    : False,\n",
    "    \"plot_PSF_LineCut\"            : False,\n",
    "    \"plot_PSF_abs2\"               : False,\n",
    "    \"plot_PSF_abs2_LineCut\"       : False,\n",
    "    \"plot_Sk\"                     : False,\n",
    "    \"normalize\"                   : False\n",
    "}\n",
    "\n",
    "path = r'C:\\Users\\eric0\\Jupyter Notebooks\\Cold Physics\\raw_image'\n",
    "savepath = r'C:\\Users\\eric0\\Jupyter Notebooks\\Cold Physics\\results'\n",
    "numOfImgsInEachRun = 1\n",
    "rampingParameter = 0\n",
    "trapRegion = (slice(100, 200), slice(100, 200))\n",
    "noiseRegion = (slice(0, 300), slice(0, 300))"
   ]
  },
  {
   "cell_type": "code",
   "execution_count": null,
   "metadata": {},
   "outputs": [],
   "source": [
    "parameters = []\n",
    "images = []\n",
    "\n",
    "for folder in glob.iglob(path + \"\\\\*\"):\n",
    "    atomODs, atomODAvg, _, _, imgIndexMin, imgIndexMax = \\\n",
    "        readInImages(folder + \"\\\\\", numOfImgsInEachRun, rampingParameter, trapRegion, noiseRegion)\n",
    "    noisePowSpecs = calcNoisePowSpecs(atomODs, atomODAvg, norm = False, imgSysData = imgSysData)\n",
    "    _, _, _, _, popt, _ = doCalibration(folder, savepath, trapRegion, noiseRegion, numOfImgsInEachRun, rampingParameter, imgSysData, choices)\n",
    "    for noisePowSpec in noisePowSpecs:\n",
    "        images.append(noisePowSpec)\n",
    "    for i in range(len(noisePowSpecs)):\n",
    "        parameters.append(popt)"
   ]
  },
  {
   "cell_type": "code",
   "execution_count": null,
   "metadata": {},
   "outputs": [],
   "source": [
    "images = np.array(images).reshape((len(images),-1))\n",
    "parameters = np.array(parameters)[:, [3, 5, 6]]\n",
    "yscaler = pkl.load(open(savepath + \"\\\\yscaler\", \"rb\"))\n",
    "parameters = yscaler.transform(np.array(parameters))"
   ]
  },
  {
   "cell_type": "code",
   "execution_count": null,
   "metadata": {},
   "outputs": [],
   "source": [
    "images = tf.convert_to_tensor(images)\n",
    "parameters = tf.convert_to_tensor(parameters)"
   ]
  },
  {
   "cell_type": "code",
   "execution_count": null,
   "metadata": {},
   "outputs": [],
   "source": [
    "pkl.dump(images, open(savepath + \"\\\\realdatain\", \"wb\"))\n",
    "pkl.dump(parameters, open(savepath + \"\\\\realdataout\", \"wb\"))"
   ]
  },
  {
   "cell_type": "code",
   "execution_count": null,
   "metadata": {},
   "outputs": [],
   "source": []
  }
 ],
 "metadata": {
  "kernelspec": {
   "display_name": "Python 3",
   "language": "python",
   "name": "python3"
  },
  "language_info": {
   "codemirror_mode": {
    "name": "ipython",
    "version": 3
   },
   "file_extension": ".py",
   "mimetype": "text/x-python",
   "name": "python",
   "nbconvert_exporter": "python",
   "pygments_lexer": "ipython3",
   "version": "3.7.4"
  }
 },
 "nbformat": 4,
 "nbformat_minor": 2
}
